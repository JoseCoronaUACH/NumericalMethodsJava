{
  "nbformat": 4,
  "nbformat_minor": 0,
  "metadata": {
    "colab": {
      "provenance": [],
      "authorship_tag": "ABX9TyPDxaAbIWNbVNzHIWQyFWoH",
      "include_colab_link": true
    },
    "kernelspec": {
      "name": "python3",
      "display_name": "Python 3"
    },
    "language_info": {
      "name": "python"
    }
  },
  "cells": [
    {
      "cell_type": "markdown",
      "metadata": {
        "id": "view-in-github",
        "colab_type": "text"
      },
      "source": [
        "<a href=\"https://colab.research.google.com/github/JoseCoronaUACH/NumericalMethodsJava/blob/main/calcularCorrelacionCruzada.ipynb\" target=\"_parent\"><img src=\"https://colab.research.google.com/assets/colab-badge.svg\" alt=\"Open In Colab\"/></a>"
      ]
    },
    {
      "cell_type": "markdown",
      "source": [
        "#  Funcion para calcular la correlacion cruzada entre dos señales discretas finitas.\n",
        "\n",
        "\n",
        "La fórmula para la correlación cruzada entre dos señales \\( x[n] \\) y \\( y[n] \\) es:\n",
        "\n",
        "$$\n",
        "r_{xy}[k] = \\sum_{n=0}^{N-1} x[n] \\cdot y[n - k]\n",
        "$$\n",
        "\n",
        "donde:\n",
        "- $r_{xy}[k]$ es el valor de la correlación cruzada en el desplazamiento $ k $,\n",
        "- $ x[n] $ y $ y[n]$ son las señales,\n",
        "- $ y[n - k] $ es la señal $ y $ desplazada en $ k $ unidades."
      ],
      "metadata": {
        "id": "eAkLttZGGj-K"
      }
    },
    {
      "cell_type": "code",
      "execution_count": 34,
      "metadata": {
        "id": "4iH-OKitBOvu"
      },
      "outputs": [],
      "source": [
        "def correlacion_cruzada(x: list, y: list) -> list:\n",
        "  \"\"\"\n",
        "  Calcula la correlacion cruzada entre dos señales finitas y del mismo numero\n",
        "  de elementos.\n",
        "  \"\"\"\n",
        "  # Se obtiene el tamaño de la señal/lista.\n",
        "  N: int = len(x)\n",
        "  M: int = len(y)\n",
        "  resultado: list = []\n",
        "\n",
        "  # Rango de desplazamientos: desde -(M-1) hasta N-1\n",
        "  for k in range(-(M-1), N):\n",
        "      suma = 0\n",
        "      for n in range(N):\n",
        "          m = n - k\n",
        "          if 0 <= m < M:\n",
        "              suma += x[n] * y[m]\n",
        "      resultado.append(suma)\n",
        "\n",
        "  return resultado"
      ]
    },
    {
      "cell_type": "markdown",
      "source": [
        "# Ejemplo de uso y comparativa con el metodo de numpy."
      ],
      "metadata": {
        "id": "FODQomCdGwKU"
      }
    },
    {
      "cell_type": "code",
      "source": [
        "\n",
        "# Señales de ejemplo\n",
        "x = [0, 1, 2, 3, 2, 1, 0, 0]\n",
        "y = [1, 0, -1, 0, 1, 0, -1, 0]\n",
        "\n",
        "print(\"Señales de ejemplo:\")\n",
        "print(f\"La señal x = {x}\\nLa señal y = {y}\\n\")\n",
        "\n",
        "# Correlación con función propia\n",
        "r_xy_a = correlacion_cruzada(x, y)\n",
        "lags_a = list(range(-(len(y)-1), len(x)))\n",
        "\n",
        "print(f\"Correlación cruzada (manual): \\n{r_xy_a}\")\n",
        "print(f\"Lags:\\n{lags_a}\")\n",
        "\n",
        "# Comparación con numpy\n",
        "import numpy as np\n",
        "r_xy = np.correlate(x, y, mode='full')  # modo 'full' da todos los desplazamientos\n",
        "lags = np.arange(-len(y)+1, len(x))\n",
        "\n",
        "print(f\"\\nCorrelación cruzada (NumPy):\\n{r_xy.tolist()}\")\n",
        "print(f\"Lags:\\n{lags.tolist()}\")\n",
        "\n",
        "# Comparación\n",
        "coinciden_resultados = r_xy_a == r_xy.tolist()\n",
        "coinciden_lags = lags_a == lags.tolist()\n",
        "\n",
        "print(f\"\\n¿Las respuestas son iguales?\\nCorr: {coinciden_resultados}\\nLags: {coinciden_lags}\")\n"
      ],
      "metadata": {
        "colab": {
          "base_uri": "https://localhost:8080/"
        },
        "id": "sLocPx5FGib-",
        "outputId": "8e526876-e30b-4d85-c0f7-b2f5e0200efc"
      },
      "execution_count": 40,
      "outputs": [
        {
          "output_type": "stream",
          "name": "stdout",
          "text": [
            "Señales de ejemplo:\n",
            "La señal x = [0, 1, 2, 3, 2, 1, 0, 0]\n",
            "La señal y = [1, 0, -1, 0, 1, 0, -1, 0]\n",
            "\n",
            "Correlación cruzada (manual): \n",
            "[0, 0, -1, -2, -2, 0, 1, 0, -1, 0, 2, 2, 1, 0, 0]\n",
            "Lags:\n",
            "[-7, -6, -5, -4, -3, -2, -1, 0, 1, 2, 3, 4, 5, 6, 7]\n",
            "\n",
            "Correlación cruzada (NumPy):\n",
            "[0, 0, -1, -2, -2, 0, 1, 0, -1, 0, 2, 2, 1, 0, 0]\n",
            "Lags:\n",
            "[-7, -6, -5, -4, -3, -2, -1, 0, 1, 2, 3, 4, 5, 6, 7]\n",
            "\n",
            "¿Las respuestas son iguales?\n",
            "Corr: True\n",
            "Lags: True\n"
          ]
        }
      ]
    }
  ]
}